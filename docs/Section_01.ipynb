{
 "cells": [
  {
   "cell_type": "markdown",
   "metadata": {},
   "source": [
    "# Section1"
   ]
  },
  {
   "cell_type": "code",
   "execution_count": 1,
   "metadata": {},
   "outputs": [
    {
     "data": {
      "application/vnd.jupyter.widget-view+json": {
       "model_id": "06aa922d176d402b9f30fd3dcc83e52a",
       "version_major": 2,
       "version_minor": 0
      },
      "text/html": [
       "<p>Failed to display Jupyter Widget of type <code>interactive</code>.</p>\n",
       "<p>\n",
       "  If you're reading this message in the Jupyter Notebook or JupyterLab Notebook, it may mean\n",
       "  that the widgets JavaScript is still loading. If this message persists, it\n",
       "  likely means that the widgets JavaScript library is either not installed or\n",
       "  not enabled. See the <a href=\"https://ipywidgets.readthedocs.io/en/stable/user_install.html\">Jupyter\n",
       "  Widgets Documentation</a> for setup instructions.\n",
       "</p>\n",
       "<p>\n",
       "  If you're reading this message in another frontend (for example, a static\n",
       "  rendering on GitHub or <a href=\"https://nbviewer.jupyter.org/\">NBViewer</a>),\n",
       "  it may mean that your frontend doesn't currently support widgets.\n",
       "</p>\n"
      ],
      "text/plain": [
       "interactive(children=(FloatSlider(value=0.0, description='接点のx座標', max=2.0, min=-2.0), Dropdown(description='色', options=('red', 'green'), value='red'), Output()), _dom_classes=('widget-interact',))"
      ]
     },
     "metadata": {},
     "output_type": "display_data"
    }
   ],
   "source": [
    "%matplotlib inline\n",
    "import numpy as np\n",
    "import matplotlib.pyplot as plt\n",
    "from ipywidgets import interact\n",
    "\n",
    "f = lambda x: x**3 - x +1\n",
    "g = lambda x: 3*x**2 - 1\n",
    "f2 = lambda a,x: g(a)*(x-a)+f(a)\n",
    "\n",
    "\n",
    "def mydraw(接点のx座標, 色):\n",
    "    x = np.linspace(-2.0,2.0)\n",
    "    y1 = f(x)\n",
    "    y2 = f2(接点のx座標,x)\n",
    "    \n",
    "    plt.plot(x,y1)\n",
    "    plt.plot(x,y2,color=色[0])\n",
    "    plt.show()\n",
    "\n",
    "interact(mydraw, 接点のx座標=(-2.0, 2.0), 色=['red', 'green']);"
   ]
  },
  {
   "cell_type": "code",
   "execution_count": null,
   "metadata": {},
   "outputs": [],
   "source": []
  }
 ],
 "metadata": {
  "kernelspec": {
   "display_name": "Python 3",
   "language": "python",
   "name": "python3"
  },
  "language_info": {
   "codemirror_mode": {
    "name": "ipython",
    "version": 3
   },
   "file_extension": ".py",
   "mimetype": "text/x-python",
   "name": "python",
   "nbconvert_exporter": "python",
   "pygments_lexer": "ipython3",
   "version": "3.6.4"
  },
  "widgets": {
   "application/vnd.jupyter.widget-state+json": {
    "state": {
     "06aa922d176d402b9f30fd3dcc83e52a": {
      "model_module": "@jupyter-widgets/controls",
      "model_module_version": "1.1.0",
      "model_name": "VBoxModel",
      "state": {
       "_dom_classes": [
        "widget-interact"
       ],
       "children": [
        "IPY_MODEL_40d392c2316d47a6bab1adc54f4feba7",
        "IPY_MODEL_c01f3e58b7e344ce9f8478dd9e92f8a1",
        "IPY_MODEL_1ca741c03dba4941b5db1bcff42aa583"
       ],
       "layout": "IPY_MODEL_c08fd87ad3304fd492b5a8b6138fe3e8"
      }
     },
     "1ca741c03dba4941b5db1bcff42aa583": {
      "model_module": "@jupyter-widgets/output",
      "model_module_version": "1.0.0",
      "model_name": "OutputModel",
      "state": {
       "layout": "IPY_MODEL_1ea02958edbf4c408e35598bcc21f017",
       "outputs": [
        {
         "data": {
          "image/png": "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\n",
          "text/plain": "<matplotlib.figure.Figure at 0x26ab0d6f3c8>"
         },
         "metadata": {},
         "output_type": "display_data"
        }
       ]
      }
     },
     "1ea02958edbf4c408e35598bcc21f017": {
      "model_module": "@jupyter-widgets/base",
      "model_module_version": "1.0.0",
      "model_name": "LayoutModel",
      "state": {}
     },
     "2fc4c165165148aebfa7fbafefef8238": {
      "model_module": "@jupyter-widgets/controls",
      "model_module_version": "1.1.0",
      "model_name": "SliderStyleModel",
      "state": {
       "description_width": ""
      }
     },
     "40d392c2316d47a6bab1adc54f4feba7": {
      "model_module": "@jupyter-widgets/controls",
      "model_module_version": "1.1.0",
      "model_name": "FloatSliderModel",
      "state": {
       "description": "接点のx座標",
       "layout": "IPY_MODEL_7c22f7ed654f4bb8aa504e5c60d084c5",
       "max": 2,
       "min": -2,
       "step": 0.1,
       "style": "IPY_MODEL_2fc4c165165148aebfa7fbafefef8238",
       "value": -0.8
      }
     },
     "5d667979eb004502a4aa6ab1c1ac17f0": {
      "model_module": "@jupyter-widgets/base",
      "model_module_version": "1.0.0",
      "model_name": "LayoutModel",
      "state": {}
     },
     "7c22f7ed654f4bb8aa504e5c60d084c5": {
      "model_module": "@jupyter-widgets/base",
      "model_module_version": "1.0.0",
      "model_name": "LayoutModel",
      "state": {}
     },
     "c01f3e58b7e344ce9f8478dd9e92f8a1": {
      "model_module": "@jupyter-widgets/controls",
      "model_module_version": "1.1.0",
      "model_name": "DropdownModel",
      "state": {
       "_options_labels": [
        "red",
        "green"
       ],
       "description": "色",
       "index": 0,
       "layout": "IPY_MODEL_5d667979eb004502a4aa6ab1c1ac17f0",
       "style": "IPY_MODEL_f03a776dd8a943ffb2488b67c435a3e3"
      }
     },
     "c08fd87ad3304fd492b5a8b6138fe3e8": {
      "model_module": "@jupyter-widgets/base",
      "model_module_version": "1.0.0",
      "model_name": "LayoutModel",
      "state": {}
     },
     "f03a776dd8a943ffb2488b67c435a3e3": {
      "model_module": "@jupyter-widgets/controls",
      "model_module_version": "1.1.0",
      "model_name": "DescriptionStyleModel",
      "state": {
       "description_width": ""
      }
     }
    },
    "version_major": 2,
    "version_minor": 0
   }
  }
 },
 "nbformat": 4,
 "nbformat_minor": 2
}
