{
 "cells": [
  {
   "cell_type": "markdown",
   "metadata": {},
   "source": [
    "#####  ML勉強会第1回\n",
    "\n",
    "# Section.1 初めに.."
   ]
  },
  {
   "cell_type": "markdown",
   "metadata": {},
   "source": [
    "###  なぜ機械学習か？\n",
    "・環境が整備された  \n",
    "・機械学習で解決可能な問題  \n",
    "    １．教師あり学習　既知の例を一般化する　ー　文字認識、画像判断、異常値検出  \n",
    "    ２．教師なし学習　分類（法則）を作る  \n",
    "・データを理解し、解決しようとしている問題とデータの関係を理解することが重要   "
   ]
  },
  {
   "cell_type": "markdown",
   "metadata": {},
   "source": [
    "### なぜPython？"
   ]
  },
  {
   "cell_type": "markdown",
   "metadata": {},
   "source": [
    "・汎用言語(C言語)とスクリプト言語(Matlab, R)の使いやすさを合わせ持つ  \n",
    "・可視化、統計、自然言語処理、画像処理のライブラリが用意されている。  \n",
    "・scikit-learnに様々な機械学習アルゴリズムが用意されている。"
   ]
  },
  {
   "cell_type": "markdown",
   "metadata": {},
   "source": [
    "## これから使用していくライブラリとツール"
   ]
  },
  {
   "cell_type": "markdown",
   "metadata": {},
   "source": [
    "## Jupyter Notebook　\n",
    "Jupyter notebookはIpython notebookのこと。  \n",
    "＊以下、ORセミナーの資料を一部拝借しています。"
   ]
  },
  {
   "cell_type": "markdown",
   "metadata": {},
   "source": [
    "### 対話型シェルIPython (http://ipython.org)\n",
    "\n",
    "* IPython は，Pythonシェルを使いやすく機能強化したもの、インタラクティブシェル\n",
    "\n",
    "### IPythonシェルの便利な機能\n",
    "* ヘルプ機能\n",
    "* 補完（completion)\n",
    "* 履歴\n",
    "* マジック関数\n",
    "* システムコマンド\n",
    "* その他"
   ]
  },
  {
   "cell_type": "markdown",
   "metadata": {},
   "source": [
    "#### 1. ヘルプ機能\n",
    "* '?' でIPythonのヘルプメッセージが現れる．\n",
    "* 先頭や末尾に'?'を追加し \"?object\"や\"object?\"とするとobjectのヘルプが見られる．\n",
    "* '??'だとさらに詳しいヘルプ(もしあれば）．"
   ]
  },
  {
   "cell_type": "markdown",
   "metadata": {},
   "source": [
    "#### 2. tabキーによる補完(completion)\n",
    "* 'p'のあと空けずに[tab]キーを打つとpから始まる候補があらわれる．\n",
    "- 自分で定義した関数や、変数、import したライブラリの関数などにも適用される． "
   ]
  },
  {
   "cell_type": "markdown",
   "metadata": {},
   "source": [
    "#### 3.履歴\n",
    "* 'history' コマンドで、過去の入力が一斉に表示される．\n",
    "- [ctrl-n,p]や矢印で、前の入力が順に表示される．??\n",
    "- _ih, _oh は入力や出力が記録されたリスト．"
   ]
  },
  {
   "cell_type": "markdown",
   "metadata": {},
   "source": [
    "#### 4.マジック関数(マジックコマンド)\n",
    "* IPython自体のコントロール＋システム系のコマンド\n",
    "- 先頭に'%'や'%%'がついたコマンド\n",
    "- '%'はラインマジック（１行），'%%'はセルマジック（複数行）\n",
    "- 例：%time, %timeit, %%time, %%timeit は，後に続くコマンドの実行時間を計る．\n",
    "- 例：%who, %who_ls, %rest_selective, %reset は，名前空間の制御\n",
    "- 例：%save, %edit, %run 履歴をファイル保存，編集，実行\n",
    "\n",
    "などがある．"
   ]
  },
  {
   "cell_type": "markdown",
   "metadata": {},
   "source": [
    "#### 5.システムコマンド\n",
    "* OSのコマンドを実行できる．\n",
    "- 先頭に'!'をつける．例：'!date'（Unixの日付を調べるコマンド）．\n",
    "- コマンドの実行結果を文字列として受け取ることができる．例：s = !date"
   ]
  },
  {
   "cell_type": "code",
   "execution_count": null,
   "metadata": {},
   "outputs": [],
   "source": [
    "!cmd"
   ]
  },
  {
   "cell_type": "markdown",
   "metadata": {},
   "source": [
    "### Jupyter Notebookの概要(http://jupyter.org/)\n",
    "* Pythonコード(出力を含む)，文章，画像（動画），音声，TeXの簡単な数式などを，  Notebookという一つのファイルで扱う．\n",
    "- 編集はWebブラウザーで．\n",
    "- 立ち上げは，'jupyter notebook'　というコマンド\n",
    "- バックグラウンドで Pythonカーネルが動作\n",
    "- 編集即実行で，多彩なプログラミングと文書作成が期待できる．\n",
    "- Python以外のプログラミング言語もサポート"
   ]
  },
  {
   "cell_type": "markdown",
   "metadata": {},
   "source": [
    "##### IPython interact 機能の例"
   ]
  },
  {
   "cell_type": "code",
   "execution_count": 1,
   "metadata": {},
   "outputs": [
    {
     "data": {
      "application/vnd.jupyter.widget-view+json": {
       "model_id": "d2a57b3afdd647f19dc9f465b0ec28d8",
       "version_major": 2,
       "version_minor": 0
      },
      "text/html": [
       "<p>Failed to display Jupyter Widget of type <code>interactive</code>.</p>\n",
       "<p>\n",
       "  If you're reading this message in the Jupyter Notebook or JupyterLab Notebook, it may mean\n",
       "  that the widgets JavaScript is still loading. If this message persists, it\n",
       "  likely means that the widgets JavaScript library is either not installed or\n",
       "  not enabled. See the <a href=\"https://ipywidgets.readthedocs.io/en/stable/user_install.html\">Jupyter\n",
       "  Widgets Documentation</a> for setup instructions.\n",
       "</p>\n",
       "<p>\n",
       "  If you're reading this message in another frontend (for example, a static\n",
       "  rendering on GitHub or <a href=\"https://nbviewer.jupyter.org/\">NBViewer</a>),\n",
       "  it may mean that your frontend doesn't currently support widgets.\n",
       "</p>\n"
      ],
      "text/plain": [
       "interactive(children=(FloatSlider(value=0.0, description='接点のx座標', max=2.0, min=-2.0), Dropdown(description='色', options=('red', 'green'), value='red'), Output()), _dom_classes=('widget-interact',))"
      ]
     },
     "metadata": {},
     "output_type": "display_data"
    }
   ],
   "source": [
    "%matplotlib inline\n",
    "import numpy as np\n",
    "import matplotlib.pyplot as plt\n",
    "from ipywidgets import interact\n",
    "\n",
    "f = lambda x: x**3 - x +1\n",
    "g = lambda x: 3*x**2 - 1\n",
    "f2 = lambda a,x: g(a)*(x-a)+f(a)\n",
    "\n",
    "\n",
    "def mydraw(接点のx座標, 色):\n",
    "    x = np.linspace(-2.0,2.0)\n",
    "    y1 = f(x)\n",
    "    y2 = f2(接点のx座標,x)\n",
    "    \n",
    "    plt.plot(x,y1)\n",
    "    plt.plot(x,y2,color=色[0])\n",
    "    plt.show()\n",
    "\n",
    "interact(mydraw, 接点のx座標=(-2.0, 2.0), 色=['red', 'green']);"
   ]
  },
  {
   "cell_type": "code",
   "execution_count": null,
   "metadata": {},
   "outputs": [],
   "source": []
  }
 ],
 "metadata": {
  "kernelspec": {
   "display_name": "Python 3",
   "language": "python",
   "name": "python3"
  },
  "language_info": {
   "codemirror_mode": {
    "name": "ipython",
    "version": 3
   },
   "file_extension": ".py",
   "mimetype": "text/x-python",
   "name": "python",
   "nbconvert_exporter": "python",
   "pygments_lexer": "ipython3",
   "version": "3.6.4"
  },
  "widgets": {
   "application/vnd.jupyter.widget-state+json": {
    "state": {
     "04d3c03881fe424d8b9c4d3d6c98cbd7": {
      "model_module": "@jupyter-widgets/controls",
      "model_module_version": "1.1.0",
      "model_name": "DropdownModel",
      "state": {
       "_options_labels": [
        "red",
        "green"
       ],
       "description": "色",
       "index": 1,
       "layout": "IPY_MODEL_17e001a82c5a467294e4725cb453e44a",
       "style": "IPY_MODEL_3b86f70909894e048ab8e5ec499a992b"
      }
     },
     "17e001a82c5a467294e4725cb453e44a": {
      "model_module": "@jupyter-widgets/base",
      "model_module_version": "1.0.0",
      "model_name": "LayoutModel",
      "state": {}
     },
     "2f186022494d4d92a1735faf497e84fc": {
      "model_module": "@jupyter-widgets/controls",
      "model_module_version": "1.1.0",
      "model_name": "SliderStyleModel",
      "state": {
       "description_width": ""
      }
     },
     "3b86f70909894e048ab8e5ec499a992b": {
      "model_module": "@jupyter-widgets/controls",
      "model_module_version": "1.1.0",
      "model_name": "DescriptionStyleModel",
      "state": {
       "description_width": ""
      }
     },
     "42343e8651c44994a5471b8c0daf781d": {
      "model_module": "@jupyter-widgets/base",
      "model_module_version": "1.0.0",
      "model_name": "LayoutModel",
      "state": {}
     },
     "4997cdce4cd7485886fcfe10b2120950": {
      "model_module": "@jupyter-widgets/base",
      "model_module_version": "1.0.0",
      "model_name": "LayoutModel",
      "state": {}
     },
     "8b65f9a7d73344b8b1cc990271830e96": {
      "model_module": "@jupyter-widgets/controls",
      "model_module_version": "1.1.0",
      "model_name": "FloatSliderModel",
      "state": {
       "description": "接点のx座標",
       "layout": "IPY_MODEL_42343e8651c44994a5471b8c0daf781d",
       "max": 2,
       "min": -2,
       "step": 0.1,
       "style": "IPY_MODEL_2f186022494d4d92a1735faf497e84fc",
       "value": -0.4
      }
     },
     "d2a57b3afdd647f19dc9f465b0ec28d8": {
      "model_module": "@jupyter-widgets/controls",
      "model_module_version": "1.1.0",
      "model_name": "VBoxModel",
      "state": {
       "_dom_classes": [
        "widget-interact"
       ],
       "children": [
        "IPY_MODEL_8b65f9a7d73344b8b1cc990271830e96",
        "IPY_MODEL_04d3c03881fe424d8b9c4d3d6c98cbd7",
        "IPY_MODEL_fde05c71b922408588a49c2ac16842d0"
       ],
       "layout": "IPY_MODEL_f7635f2ca8ce4ba6abd884101a272d29"
      }
     },
     "f7635f2ca8ce4ba6abd884101a272d29": {
      "model_module": "@jupyter-widgets/base",
      "model_module_version": "1.0.0",
      "model_name": "LayoutModel",
      "state": {}
     },
     "fde05c71b922408588a49c2ac16842d0": {
      "model_module": "@jupyter-widgets/output",
      "model_module_version": "1.0.0",
      "model_name": "OutputModel",
      "state": {
       "layout": "IPY_MODEL_4997cdce4cd7485886fcfe10b2120950",
       "outputs": [
        {
         "data": {
          "image/png": "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\n",
          "text/plain": "<matplotlib.figure.Figure at 0x1a7b55ee128>"
         },
         "metadata": {},
         "output_type": "display_data"
        }
       ]
      }
     }
    },
    "version_major": 2,
    "version_minor": 0
   }
  }
 },
 "nbformat": 4,
 "nbformat_minor": 2
}
