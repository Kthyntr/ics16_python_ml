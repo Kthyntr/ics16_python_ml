{
 "cells": [
  {
   "cell_type": "markdown",
   "metadata": {},
   "source": [
    "#####  ML勉強会第1回（阿久津朋美）　　　　　　　　　　　　　　　　　　　　　　　　　　　　　　　　　　　　　　　　　　　　　　　　　　　　　　　　\n",
    "# Section.1 初めに.."
   ]
  },
  {
   "cell_type": "markdown",
   "metadata": {},
   "source": [
    "###  なぜ機械学習か？\n",
    "・環境が整備された  \n",
    "・機械学習で解決可能な問題  \n",
    "    １．教師あり学習　既知の例を一般化する　ー　文字認識、画像判断、異常値検出  \n",
    "    ２．教師なし学習　分類（法則）を作る  \n",
    "・データを理解し、解決しようとしている問題とデータの関係を理解することが重要   "
   ]
  },
  {
   "cell_type": "markdown",
   "metadata": {},
   "source": [
    "### なぜPython？"
   ]
  },
  {
   "cell_type": "markdown",
   "metadata": {},
   "source": [
    "・汎用言語(C言語)とスクリプト言語(Matlab, R)の使いやすさを合わせ持つ  \n",
    "・可視化、統計、自然言語処理、画像処理のライブラリが用意されている。  \n",
    "・scikit-learnに様々な機械学習アルゴリズムが用意されている。"
   ]
  },
  {
   "cell_type": "markdown",
   "metadata": {},
   "source": [
    "## これから使用していくライブラリとツール"
   ]
  },
  {
   "cell_type": "markdown",
   "metadata": {},
   "source": [
    "## Jupyter Notebook　\n",
    "Jupyter notebookはIpython notebookのこと。  \n",
    "＊以下、ORセミナーの資料を一部拝借しています。"
   ]
  },
  {
   "cell_type": "markdown",
   "metadata": {},
   "source": [
    "### 対話型シェルIPython (http://ipython.org)\n",
    "\n",
    "* IPython は，Pythonシェルを使いやすく機能強化したもの、インタラクティブシェル\n",
    "\n",
    "### IPythonシェルの便利な機能\n",
    "* ヘルプ機能\n",
    "* 補完（completion)\n",
    "* 履歴\n",
    "* マジック関数\n",
    "* システムコマンド\n",
    "* その他"
   ]
  },
  {
   "cell_type": "markdown",
   "metadata": {},
   "source": [
    "#### 1. ヘルプ機能\n",
    "* '?' でIPythonのヘルプメッセージが現れる．\n",
    "* 先頭や末尾に'?'を追加し \"?object\"や\"object?\"とするとobjectのヘルプが見られる．\n",
    "* '??'だとさらに詳しいヘルプ(もしあれば）．"
   ]
  },
  {
   "cell_type": "markdown",
   "metadata": {},
   "source": [
    "#### 2. tabキーによる補完(completion)\n",
    "* 'p'のあと空けずに[tab]キーを打つとpから始まる候補があらわれる．\n",
    "- 自分で定義した関数や、変数、import したライブラリの関数などにも適用される． "
   ]
  },
  {
   "cell_type": "markdown",
   "metadata": {},
   "source": [
    "#### 3.履歴\n",
    "* 'history' コマンドで、過去の入力が一斉に表示される．\n",
    "- [ctrl-n,p]や矢印で、前の入力が順に表示される．??\n",
    "- _ih, _oh は入力や出力が記録されたリスト．"
   ]
  },
  {
   "cell_type": "markdown",
   "metadata": {},
   "source": [
    "#### 4.マジック関数(マジックコマンド)\n",
    "* IPython自体のコントロール＋システム系のコマンド\n",
    "- 先頭に'%'や'%%'がついたコマンド\n",
    "- '%'はラインマジック（１行），'%%'はセルマジック（複数行）\n",
    "- 例：%time, %timeit, %%time, %%timeit は，後に続くコマンドの実行時間を計る．\n",
    "- 例：%who, %who_ls, %rest_selective, %reset は，名前空間の制御\n",
    "- 例：%save, %edit, %run 履歴をファイル保存，編集，実行\n",
    "\n",
    "などがある．"
   ]
  },
  {
   "cell_type": "heading",
   "metadata": {},
   "level": 1,
   "source": []
  },
  {
   "cell_type": "markdown",
   "metadata": {},
   "source": [
    "#### 5.システムコマンド\n",
    "* OSのコマンドを実行できる．\n",
    "- 先頭に'!'をつける．例：'!date'（Unixの日付を調べるコマンド）．\n",
    "- コマンドの実行結果を文字列として受け取ることができる．例：s = !date"
   ]
  },
  {
   "cell_type": "code",
   "execution_count": 1,
   "metadata": {},
   "outputs": [],
   "source": [
    "!cmd"
   ]
  },
  {
   "cell_type": "markdown",
   "metadata": {},
   "source": [
    "### Jupyter Notebookの概要(http://jupyter.org/)\n",
    "* Pythonコード(出力を含む)，文章，画像（動画），音声，TeXの簡単な数式などを，  Notebookという一つのファイルで扱う．\n",
    "- 編集はWebブラウザーで．\n",
    "- 立ち上げは，'jupyter notebook'　というコマンド\n",
    "- バックグラウンドで Pythonカーネルが動作\n",
    "- 編集即実行で，多彩なプログラミングと文書作成が期待できる．\n",
    "- Python以外のプログラミング言語もサポート"
   ]
  },
  {
   "cell_type": "markdown",
   "metadata": {},
   "source": [
    "##### IPython interact 機能の例"
   ]
  },
  {
   "cell_type": "code",
   "execution_count": null,
   "metadata": {
    "scrolled": true,
    "collapsed": false
   },
   "outputs": [
    {
     "data": {
      "text/html": [
       "<p>Failed to display Jupyter Widget of type <code>interactive</code>.</p>\n",
       "<p>\n",
       "  If you're reading this message in the Jupyter Notebook or JupyterLab Notebook, it may mean\n",
       "  that the widgets JavaScript is still loading. If this message persists, it\n",
       "  likely means that the widgets JavaScript library is either not installed or\n",
       "  not enabled. See the <a href=\"https://ipywidgets.readthedocs.io/en/stable/user_install.html\">Jupyter\n",
       "  Widgets Documentation</a> for setup instructions.\n",
       "</p>\n",
       "<p>\n",
       "  If you're reading this message in another frontend (for example, a static\n",
       "  rendering on GitHub or <a href=\"https://nbviewer.jupyter.org/\">NBViewer</a>),\n",
       "  it may mean that your frontend doesn't currently support widgets.\n",
       "</p>\n"
      ],
      "text/plain": [
       "<p>Failed to display Jupyter Widget of type <code>interactive</code>.</p>\n",
       "<p>\n",
       "  If you're reading this message in the Jupyter Notebook or JupyterLab Notebook, it may mean\n",
       "  that the widgets JavaScript is still loading. If this message persists, it\n",
       "  likely means that the widgets JavaScript library is either not installed or\n",
       "  not enabled. See the <a href=\"https://ipywidgets.readthedocs.io/en/stable/user_install.html\">Jupyter\n",
       "  Widgets Documentation</a> for setup instructions.\n",
       "</p>\n",
       "<p>\n",
       "  If you're reading this message in another frontend (for example, a static\n",
       "  rendering on GitHub or <a href=\"https://nbviewer.jupyter.org/\">NBViewer</a>),\n",
       "  it may mean that your frontend doesn't currently support widgets.\n",
       "</p>\n"
      ]
     },
     "execution_count": 0,
     "metadata": {},
     "output_type": "execute_result"
    },
    {
     "data": {
      "image/png": "[encoded data removed]",
      "text/plain": [
       "<matplotlib.figure.Figure at 0x20ee892cba8>"
      ]
     },
     "metadata": {},
     "output_type": "display_data"
    }
   ],
   "source": [
    "%matplotlib inline\n",
    "import numpy as np\n",
    "import matplotlib.pyplot as plt\n",
    "from ipywidgets import interact\n",
    "\n",
    "f = lambda x: x**3 - x +1\n",
    "g = lambda x: 3*x**2 - 1\n",
    "f2 = lambda a,x: g(a)*(x-a)+f(a)\n",
    "\n",
    "\n",
    "def mydraw(接点のx座標, 色):\n",
    "    x = np.linspace(-2.0,2.0)\n",
    "    y1 = f(x)\n",
    "    y2 = f2(接点のx座標,x)\n",
    "    \n",
    "    plt.plot(x,y1)\n",
    "    plt.plot(x,y2,color=色[0])\n",
    "    plt.show()\n",
    "\n",
    "interact(mydraw, 接点のx座標=(-2.0, 2.0), 色=['red', 'green']);"
   ]
  },
  {
   "cell_type": "markdown",
   "metadata": {},
   "source": [
    "##  NumPy   \n",
    "* 多次元配列機能や線形代数、フーリエ変換、疑似乱数生成器などの高レベルの数学関数　\n",
    "* scikit-learnはNumPy配列で入力を受け取る"
   ]
  },
  {
   "cell_type": "code",
   "execution_count": 8,
   "metadata": {
    "scrolled": true
   },
   "outputs": [
    {
     "name": "stdout",
     "output_type": "stream",
     "text": [
      "x:\n",
      "[[1 2 3]\n",
      " [4 5 6]]\n"
     ]
    }
   ],
   "source": [
    "import numpy as np\n",
    "x=np.array([[1,2,3],[4,5,6]])\n",
    "print(\"x:\\n{}\".format(x))"
   ]
  },
  {
   "cell_type": "markdown",
   "metadata": {},
   "source": [
    "##  SciPy"
   ]
  },
  {
   "cell_type": "markdown",
   "metadata": {},
   "source": [
    "* 高度な線形代数ルーチン、数学関数の最適化、信号処理、特殊な数学関数、統計分布の機能を持つ。\n",
    "* scikit-learnがSciPyの関数群を利用\n",
    "* 疎行列を生成 scipy.sparse"
   ]
  },
  {
   "cell_type": "code",
   "execution_count": 10,
   "metadata": {},
   "outputs": [
    {
     "name": "stdout",
     "output_type": "stream",
     "text": [
      "NumPy array:\n",
      "[[1. 0. 0. 0.]\n",
      " [0. 1. 0. 0.]\n",
      " [0. 0. 1. 0.]\n",
      " [0. 0. 0. 1.]]\n",
      "\n",
      "SciPy sparse CSR matrix:\n",
      "  (0, 0)\t1.0\n",
      "  (1, 1)\t1.0\n",
      "  (2, 2)\t1.0\n",
      "  (3, 3)\t1.0\n"
     ]
    }
   ],
   "source": [
    "from scipy import sparse\n",
    "eye=np.eye(4)\n",
    "print(\"NumPy array:\\n{}\".format(eye))\n",
    "sparse_matrix=sparse.csr_matrix(eye)\n",
    "print(\"\\nSciPy sparse CSR matrix:\\n{}\".format(sparse_matrix))"
   ]
  },
  {
   "cell_type": "markdown",
   "metadata": {},
   "source": [
    "SciPy Lecture Notes (http://www.scipy-lectures.org/)"
   ]
  },
  {
   "cell_type": "code",
   "execution_count": 13,
   "metadata": {},
   "outputs": [
    {
     "name": "stdout",
     "output_type": "stream",
     "text": [
      "COO representation:\n",
      "  (0, 0)\t1.0\n",
      "  (1, 1)\t1.0\n",
      "  (2, 2)\t1.0\n",
      "  (3, 3)\t1.0\n"
     ]
    }
   ],
   "source": [
    "data = np.ones(4)\n",
    "row_indices = np.arange(4)\n",
    "col_indices = np.arange(4)\n",
    "eye_coo = sparse.coo_matrix((data, (row_indices, col_indices)))\n",
    "print(\"COO representation:\\n{}\".format(eye_coo))"
   ]
  },
  {
   "cell_type": "markdown",
   "metadata": {},
   "source": [
    "## matplotlib"
   ]
  },
  {
   "cell_type": "markdown",
   "metadata": {},
   "source": [
    "* グラフ描画ライブラリ\n",
    "* Jupyterでは%matplotlib notebook/%matplotlib inlineコマンドを用いると、ブラウザ上に図を直接表示することが可能"
   ]
  },
  {
   "cell_type": "markdown",
   "metadata": {},
   "source": [
    "## pandas"
   ]
  },
  {
   "cell_type": "markdown",
   "metadata": {},
   "source": [
    "* データフレーム\n",
    "* 詳細は別資料参考"
   ]
  },
  {
   "cell_type": "markdown",
   "metadata": {},
   "source": [
    "## mglearn"
   ]
  },
  {
   "cell_type": "markdown",
   "metadata": {},
   "source": [
    "* Amuellerが書いたコードで、本の中に用いられている。\n",
    "* GitHub (https://github.com/amueller/introduction_to_ml_with_python)\n",
    "* 使用には、以下のimportが必要  \n",
    "    import numpy as np  \n",
    "    import matplotlib.pyplot as plt  \n",
    "    import pandas as pd  \n",
    "    import mglearn  \n",
    "    from IPython.display import display  "
   ]
  },
  {
   "cell_type": "markdown",
   "metadata": {},
   "source": [
    "## アプリケーション例"
   ]
  }
 ],
 "metadata": {
  "kernelspec": {
   "display_name": "Python 3",
   "language": "python",
   "name": "python3"
  },
  "language_info": {
   "codemirror_mode": {
    "name": "ipython",
    "version": 3
   },
   "file_extension": ".py",
   "mimetype": "text/x-python",
   "name": "python",
   "nbconvert_exporter": "python",
   "pygments_lexer": "ipython3",
   "version": "3.6.4"
  }
 },
 "nbformat": 4,
 "nbformat_minor": 2
}
